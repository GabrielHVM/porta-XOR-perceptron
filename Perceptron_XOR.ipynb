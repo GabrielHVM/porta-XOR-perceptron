{
  "nbformat": 4,
  "nbformat_minor": 2,
  "metadata": {
    "colab": {
      "name": "Perceptron XOR.ipynb",
      "provenance": [],
      "collapsed_sections": []
    },
    "kernelspec": {
      "name": "python3",
      "display_name": "Python 3.9.6 64-bit ('IA': venv)"
    },
    "language_info": {
      "name": "python",
      "version": "3.9.6",
      "mimetype": "text/x-python",
      "codemirror_mode": {
        "name": "ipython",
        "version": 3
      },
      "pygments_lexer": "ipython3",
      "nbconvert_exporter": "python",
      "file_extension": ".py"
    },
    "interpreter": {
      "hash": "fc4f0b8efd37a2ad66483211a00f0bbf7e4bba7c0a8e8d55ad900bac97257c63"
    }
  },
  "cells": [
    {
      "cell_type": "markdown",
      "source": [
        "# Porta XOR usando perceptron"
      ],
      "metadata": {
        "id": "SvbB1oKu9LwK"
      }
    },
    {
      "cell_type": "markdown",
      "source": [
        "A porta XOR não é um problema linear, pois não existe uma única linha que consiga dividir o espaço corretamente. Para tanto é necessário utilizar a combinação de portas para resolvê-lo ou utilizar funções como, por exemplo, sigmoid.\n",
        "\n",
        "A tabela a seguir demonstra as possíveis saídas obtidas pela porta XOR, tendo X1 e X2 como as entradas da porta.\n",
        "\n",
        "|X1|X2|Saída|\n",
        "|:--:|:--:|:--:|\n",
        "|0|0|0|\n",
        "|0|1|1|\n",
        "|1|0|1|\n",
        "|1|1|0|\n",
        "\n",
        "Sendo assim o gráfico a seguir mostra visualmente as saídas de acordo com as respectivas entradas, onde o eixo X é a variável X1 e o eixo Y é a variável X2."
      ],
      "metadata": {
        "id": "Mk4mygxg9Rom"
      }
    },
    {
      "cell_type": "code",
      "execution_count": 2,
      "source": [
        "import matplotlib.pyplot as plt\n",
        "import numpy as np\n",
        "from itertools import cycle\n",
        "\n",
        "xpoints = np.array([0, 1, 0 ,1])\n",
        "ypoints = np.array([0, 1, 1, 0])\n",
        "\n",
        "plt.scatter(xpoints, ypoints, c=[0,0,1,1])\n",
        "plt.xlabel('X1')\n",
        "plt.ylabel('X2')\n",
        "\n",
        "plt.show()"
      ],
      "outputs": [
        {
          "output_type": "display_data",
          "data": {
            "text/plain": [
              "<Figure size 432x288 with 1 Axes>"
            ],
            "image/png": "[encoded data removed]"
          },
          "metadata": {
            "needs_background": "light"
          }
        }
      ],
      "metadata": {
        "id": "ZMZd3E-O9K7I"
      }
    },
    {
      "cell_type": "markdown",
      "source": [
        "Percebe-se que não é possível dividir o espaço onde as saídas com valor 0 estejam juntas, idem para o valor 1. Sendo assim é necessário construir a porta XOR através do perceptron realizando a combinação das portas AND, OR e NAND.\n",
        "\n",
        "Portanto, combinamos a porta OR e NAND com a porta AND para gerarmos a porta XOR:\n",
        "\n",
        "![texto do link](https://i.imgur.com/k97zHcB.jpg)"
      ],
      "metadata": {
        "id": "9UdORojQg0yv"
      }
    },
    {
      "cell_type": "markdown",
      "source": [
        "Por fim temos a seguinte arquitetura da rede neural:\n",
        "\n",
        "![](https://i.imgur.com/TLC8ksi.jpg)"
      ],
      "metadata": {
        "id": "wlkq2nQqmAC1"
      }
    },
    {
      "cell_type": "markdown",
      "source": [
        "# Implementação da rede neural"
      ],
      "metadata": {
        "id": "SwuH_ePZoVD6"
      }
    },
    {
      "cell_type": "markdown",
      "source": [
        ">OBS.: A biblioteca Numpy já foi importada anteriormente para o plot das saídas da porta XOR."
      ],
      "metadata": {
        "id": "VHGLvTRDoiTy"
      }
    },
    {
      "cell_type": "markdown",
      "source": [
        "**Definição da entrada**"
      ],
      "metadata": {
        "id": "lfcXP125o07S"
      }
    },
    {
      "cell_type": "code",
      "execution_count": 3,
      "source": [
        "\n",
        "train_data = np.array(\n",
        "    [\n",
        "        [0, 0],\n",
        "        [0, 1],\n",
        "        [1, 0],\n",
        "        [1, 1]])"
      ],
      "outputs": [],
      "metadata": {
        "id": "Xgw6iTGlogd6"
      }
    },
    {
      "cell_type": "markdown",
      "source": [
        "**Definição das saídas esperadas**\n",
        "\n",
        "Saídas esperadas pelas portas XOR, NAND, OR e AND.\n"
      ],
      "metadata": {
        "id": "QK0EEyfFZu_y"
      }
    },
    {
      "cell_type": "markdown",
      "source": [
        "Porta NAND:"
      ],
      "metadata": {
        "id": "--baWPaKaF5l"
      }
    },
    {
      "cell_type": "code",
      "execution_count": 4,
      "source": [
        "target_nand = np.array(\n",
        "    [\n",
        "        [1],\n",
        "        [1],\n",
        "        [1],\n",
        "        [0]])"
      ],
      "outputs": [],
      "metadata": {
        "id": "cuTGQtklaH-i"
      }
    },
    {
      "cell_type": "markdown",
      "source": [
        "Porta OR:"
      ],
      "metadata": {
        "id": "Ljp3bc0laTdB"
      }
    },
    {
      "cell_type": "code",
      "execution_count": 5,
      "source": [
        "target_or = np.array(\n",
        "    [\n",
        "        [0],\n",
        "        [1],\n",
        "        [1],\n",
        "        [1]])"
      ],
      "outputs": [],
      "metadata": {
        "id": "9Cnac7jiaVNB"
      }
    },
    {
      "cell_type": "markdown",
      "source": [
        "Porta AND:"
      ],
      "metadata": {
        "id": "toWu26Jhacbg"
      }
    },
    {
      "cell_type": "code",
      "execution_count": 6,
      "source": [
        "target_and = np.array(\n",
        "    [\n",
        "        [0],\n",
        "        [0],\n",
        "        [0],\n",
        "        [1]])"
      ],
      "outputs": [],
      "metadata": {
        "id": "slws4_T_aelu"
      }
    },
    {
      "cell_type": "markdown",
      "source": [
        "**Definição da classe Perceptron**\n",
        "\n",
        "Na classe Perceptron teremos os seguintes atributos:\n",
        " - trains_data -> Dados de entrada\n",
        " - target -> Saida esperada\n",
        " - lr -> Taxa de aprendizagem\n",
        " - input_nodes -> Quantidade de nos na entrada \n",
        " - w -> Pesos\n",
        " - b -> Bias\n",
        " - node_val -> Valor dos nós que salvará os valores de cada nó em um dado tempo\n",
        " - correct_iter -> Vetor que salva a i\n",
        " \n",
        "\n",
        "Além dos atributos a classe Perceptron terá os seguintes métodos:\n",
        " - _gradient -> Método responsável por calcular o gradiente\n",
        " - update_weights -> Método responsável por atualizar os pesos\n",
        " - forward -> Método responsável pela ativação, ou seja, a implementação de `wX+b`\n",
        " - classify -> Método que classificará os valores recebidos em classes\n",
        " - train -> Método que irá treinar a rede neural"
      ],
      "metadata": {
        "id": "wiQPkY6fa4Tl"
      }
    },
    {
      "cell_type": "code",
      "execution_count": 7,
      "source": [
        "\n",
        "class Perceptron:\n",
        "\n",
        "    def __init__(self, train_data, target, lr=0.01, input_nodes=2):\n",
        "        self.train_data = train_data\n",
        "        self.target = target\n",
        "        self.lr = lr\n",
        "        self.input_nodes = input_nodes\n",
        "        self.w = np.random.uniform(size=self.input_nodes)\n",
        "        self.b = -1\n",
        "        self.node_val = np.zeros(self.input_nodes)\n",
        "        self.correct_iter = [0]\n",
        "\n",
        "    def _gradient(self, node, exp, output):\n",
        "        return node * (exp - output)\n",
        "\n",
        "    def update_weights(self, exp, output):\n",
        "        for i in range(self.input_nodes):\n",
        "            self.w[i] += self.lr * self._gradient(self.node_val[i], exp, output)\n",
        "        self.b += self.lr * self._gradient(1, exp, output)\n",
        "\n",
        "    def forward(self, datapoint):\n",
        "        return self.b + np.dot(self.w, datapoint)\n",
        "\n",
        "    def classify(self, datapoint):\n",
        "        if self.forward(datapoint) >= 0:\n",
        "            return 1\n",
        "\n",
        "        return 0\n",
        "    def train(self):\n",
        "        correct_counter = 0\n",
        "        iterations = 0\n",
        "\n",
        "        for train, target in cycle(zip(self.train_data, self.target)):\n",
        "            if correct_counter == len(self.train_data):\n",
        "                break\n",
        "\n",
        "            output = self.classify(train)\n",
        "            self.node_val = train\n",
        "            iterations += 1\n",
        "\n",
        "            if output == target:\n",
        "                correct_counter += 1\n",
        "            else:\n",
        "\n",
        "                self.update_weights(target, output)\n",
        "                correct_counter = 0\n",
        "        \n",
        "            self.correct_iter.append(correct_counter)"
      ],
      "outputs": [],
      "metadata": {
        "id": "QqsDnwALa83G"
      }
    },
    {
      "cell_type": "markdown",
      "source": [
        "**Definição da porta XOR**\n",
        "A porta XOR será a combinação, através da porta AND, das portas OR e NAND."
      ],
      "metadata": {
        "id": "qZbLqmemicK3"
      }
    },
    {
      "cell_type": "code",
      "execution_count": 8,
      "source": [
        "\n",
        "def XOR(x1, x2):\n",
        "\n",
        "    x = [x1, x2]\n",
        "    p_or = Perceptron(train_data, target_or)\n",
        "    p_nand = Perceptron(train_data, target_nand)\n",
        "    p_and = Perceptron(train_data, target_and)\n",
        "\n",
        "    p_or.train()\n",
        "    p_nand.train()\n",
        "    p_and.train()\n",
        "\n",
        "    return p_and.classify([p_or.classify(x),\n",
        "                          p_nand.classify(x)])"
      ],
      "outputs": [],
      "metadata": {
        "id": "AEZiNCngbAO7"
      }
    },
    {
      "cell_type": "markdown",
      "source": [
        "**Utilizando a porta XOR**"
      ],
      "metadata": {
        "id": "TcWajZnQjokK"
      }
    },
    {
      "cell_type": "code",
      "execution_count": 9,
      "source": [
        "print(f'{0} XOR {0} = {XOR(0,0)}')\n",
        "print(f'{0} XOR {1} = {XOR(0,1)}')\n",
        "print(f'{1} XOR {0} = {XOR(1,0)}')\n",
        "print(f'{1} XOR {1} = {XOR(1,1)}')"
      ],
      "outputs": [
        {
          "output_type": "execute_result",
          "data": {
            "text/plain": [
              "0"
            ]
          },
          "metadata": {},
          "execution_count": 9
        }
      ],
      "metadata": {
        "id": "a87VclVWjq07"
      }
    }
  ]
}